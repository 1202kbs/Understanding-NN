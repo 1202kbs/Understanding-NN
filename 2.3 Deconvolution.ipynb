{
 "cells": [
  {
   "cell_type": "markdown",
   "metadata": {},
   "source": [
    "# 2.3 Deconvolution"
   ]
  },
  {
   "cell_type": "markdown",
   "metadata": {},
   "source": [
    "## Tensorflow Walkthrough"
   ]
  },
  {
   "cell_type": "markdown",
   "metadata": {},
   "source": [
    "### 1. Import Dependencies"
   ]
  },
  {
   "cell_type": "code",
   "execution_count": 1,
   "metadata": {},
   "outputs": [
    {
     "name": "stdout",
     "output_type": "stream",
     "text": [
      "Extracting MNIST_data/train-images-idx3-ubyte.gz\n",
      "Extracting MNIST_data/train-labels-idx1-ubyte.gz\n",
      "Extracting MNIST_data/t10k-images-idx3-ubyte.gz\n",
      "Extracting MNIST_data/t10k-labels-idx1-ubyte.gz\n"
     ]
    }
   ],
   "source": [
    "import os\n",
    "\n",
    "from tensorflow.examples.tutorials.mnist import input_data\n",
    "from tensorflow.python.ops import nn_ops, gen_nn_ops\n",
    "import matplotlib.pyplot as plt\n",
    "import tensorflow as tf\n",
    "import numpy as np\n",
    "\n",
    "from models.models_2_3 import MNIST_CNN\n",
    "from utils import pixel_range\n",
    "\n",
    "%matplotlib inline\n",
    "\n",
    "mnist = input_data.read_data_sets(\"MNIST_data/\", one_hot=True)\n",
    "\n",
    "images = mnist.train.images\n",
    "labels = mnist.train.labels\n",
    "\n",
    "logdir = './tf_logs/2_3_DC/'\n",
    "ckptdir = logdir + 'model'\n",
    "\n",
    "if not os.path.exists(logdir):\n",
    "    os.mkdir(logdir)"
   ]
  },
  {
   "cell_type": "markdown",
   "metadata": {},
   "source": [
    "### 2. Building Graph"
   ]
  },
  {
   "cell_type": "code",
   "execution_count": 2,
   "metadata": {},
   "outputs": [],
   "source": [
    "with tf.name_scope('Classifier'):\n",
    "\n",
    "    # Initialize neural network\n",
    "    DNN = MNIST_CNN('CNN')\n",
    "\n",
    "    # Setup training process\n",
    "    X = tf.placeholder(tf.float32, [None, 784], name='X')\n",
    "    Y = tf.placeholder(tf.float32, [None, 10], name='Y')\n",
    "\n",
    "    activations, logits = DNN(X)\n",
    "    \n",
    "    tf.add_to_collection('DC', X)\n",
    "    \n",
    "    for activation in activations:\n",
    "        tf.add_to_collection('DC', activation)\n",
    "\n",
    "    cost = tf.reduce_mean(tf.nn.softmax_cross_entropy_with_logits(logits=logits, labels=Y))\n",
    "\n",
    "    optimizer = tf.train.AdamOptimizer().minimize(cost, var_list=DNN.vars)\n",
    "\n",
    "    correct_prediction = tf.equal(tf.argmax(logits, 1), tf.argmax(Y, 1))\n",
    "    accuracy = tf.reduce_mean(tf.cast(correct_prediction, tf.float32))\n",
    "\n",
    "cost_summary = tf.summary.scalar('Cost', cost)\n",
    "accuray_summary = tf.summary.scalar('Accuracy', accuracy)\n",
    "summary = tf.summary.merge_all()"
   ]
  },
  {
   "cell_type": "markdown",
   "metadata": {},
   "source": [
    "### 3. Training Network"
   ]
  },
  {
   "cell_type": "code",
   "execution_count": 3,
   "metadata": {},
   "outputs": [
    {
     "name": "stdout",
     "output_type": "stream",
     "text": [
      "Epoch: 0001 cost = 0.156623523 accuracy = 0.950163645\n",
      "Epoch: 0002 cost = 0.042625537 accuracy = 0.986927283\n",
      "Epoch: 0003 cost = 0.029875092 accuracy = 0.990618190\n",
      "Epoch: 0004 cost = 0.021823779 accuracy = 0.993036370\n",
      "Epoch: 0005 cost = 0.018047505 accuracy = 0.993927278\n",
      "Epoch: 0006 cost = 0.013701927 accuracy = 0.995400004\n",
      "Epoch: 0007 cost = 0.012501947 accuracy = 0.996018185\n",
      "Epoch: 0008 cost = 0.010178409 accuracy = 0.996618185\n",
      "Epoch: 0009 cost = 0.008392057 accuracy = 0.997272730\n",
      "Epoch: 0010 cost = 0.008140020 accuracy = 0.997181821\n",
      "Epoch: 0011 cost = 0.007686417 accuracy = 0.997581820\n",
      "Epoch: 0012 cost = 0.006270998 accuracy = 0.998145456\n",
      "Epoch: 0013 cost = 0.004811549 accuracy = 0.998509092\n",
      "Epoch: 0014 cost = 0.007982755 accuracy = 0.997454548\n",
      "Epoch: 0015 cost = 0.004931021 accuracy = 0.998309093\n",
      "Accuracy: 0.9935\n"
     ]
    }
   ],
   "source": [
    "sess = tf.InteractiveSession()\n",
    "sess.run(tf.global_variables_initializer())\n",
    "\n",
    "saver = tf.train.Saver()\n",
    "file_writer = tf.summary.FileWriter(logdir, tf.get_default_graph())\n",
    "\n",
    "# Hyper parameters\n",
    "training_epochs = 15\n",
    "batch_size = 100\n",
    "\n",
    "for epoch in range(training_epochs):\n",
    "    total_batch = int(mnist.train.num_examples / batch_size)\n",
    "    avg_cost = 0\n",
    "    avg_acc = 0\n",
    "    \n",
    "    for i in range(total_batch):\n",
    "        batch_xs, batch_ys = mnist.train.next_batch(batch_size)\n",
    "        _, c, a, summary_str = sess.run([optimizer, cost, accuracy, summary], feed_dict={X: batch_xs, Y: batch_ys})\n",
    "        avg_cost += c / total_batch\n",
    "        avg_acc += a / total_batch\n",
    "        \n",
    "        file_writer.add_summary(summary_str, epoch * total_batch + i)\n",
    "\n",
    "    print('Epoch:', '%04d' % (epoch + 1), 'cost =', '{:.9f}'.format(avg_cost), 'accuracy =', '{:.9f}'.format(avg_acc))\n",
    "    \n",
    "    saver.save(sess, ckptdir)\n",
    "\n",
    "print('Accuracy:', sess.run(accuracy, feed_dict={X: mnist.test.images, Y: mnist.test.labels}))\n",
    "\n",
    "sess.close()"
   ]
  },
  {
   "cell_type": "markdown",
   "metadata": {},
   "source": [
    "### 4. Restoring Subgraph"
   ]
  },
  {
   "cell_type": "code",
   "execution_count": 4,
   "metadata": {},
   "outputs": [
    {
     "name": "stdout",
     "output_type": "stream",
     "text": [
      "INFO:tensorflow:Restoring parameters from ./tf_logs/2_3_DC/model\n"
     ]
    }
   ],
   "source": [
    "tf.reset_default_graph()\n",
    "\n",
    "sess = tf.InteractiveSession()\n",
    "\n",
    "new_saver = tf.train.import_meta_graph(ckptdir + '.meta')\n",
    "new_saver.restore(sess, tf.train.latest_checkpoint(logdir))\n",
    "\n",
    "activations = tf.get_collection('DC')\n",
    "weights = tf.get_collection(tf.GraphKeys.TRAINABLE_VARIABLES, scope='CNN')\n",
    "\n",
    "X = activations[0]\n",
    "activations = activations[1:]\n",
    "\n",
    "sample_imgs = [images[np.argmax(labels, axis=1) == i][5] for i in range(10)]"
   ]
  },
  {
   "cell_type": "markdown",
   "metadata": {},
   "source": [
    "### 5. Deconvolution from 1st Layer"
   ]
  },
  {
   "cell_type": "code",
   "execution_count": 5,
   "metadata": {},
   "outputs": [
    {
     "data": {
      "image/png": "[encoded data removed]",
      "text/plain": [
       "<matplotlib.figure.Figure at 0x23d1a6a2668>"
      ]
     },
     "metadata": {},
     "output_type": "display_data"
    }
   ],
   "source": [
    "img_ind = 0\n",
    "\n",
    "conv_ksize = [1, 3, 3, 1]\n",
    "pool_ksize = [1, 2, 2, 1]\n",
    "conv_strides = [1, 1, 1, 1]\n",
    "pool_strides = [1, 2, 2, 1]\n",
    "\n",
    "# Get indices for 5 feature maps with strongest activations\n",
    "layer = sess.run(activations[2], feed_dict={X: images[None, img_ind]})\n",
    "\n",
    "for i in range(3):\n",
    "    layer = np.sum(layer, axis=0)\n",
    "\n",
    "inds = np.sort(np.argpartition(layer, -4)[-5:])\n",
    "\n",
    "figs = [images[img_ind]]\n",
    "\n",
    "# Perform deconvolution and display reconstructions\n",
    "for i in range(len(inds)):\n",
    "    \n",
    "    pool1 = activations[2][:, :, :, None, inds[i]]\n",
    "    depool1 = nn_ops.max_pool_grad_v2(activations[1][:, :, :, None, inds[i]], pool1, pool1, pool_ksize, pool_strides, 'SAME')\n",
    "    derect1 = tf.nn.relu(depool1)\n",
    "    deconv1 = tf.nn.conv2d_transpose(derect1, weights[0][:, :, :, None, inds[i]], tf.shape(activations[0]), conv_strides, 'SAME')\n",
    "\n",
    "    r = sess.run(deconv1, feed_dict={X: images[None, img_ind]})\n",
    "    figs.append(r)\n",
    "\n",
    "    \n",
    "fig = plt.figure(figsize=(15,15))\n",
    "for i in range(6):\n",
    "    \n",
    "    ax = fig.add_subplot(1, 6, i + 1)\n",
    "    ax.imshow(figs[i].reshape(28,28), cmap='gray')\n",
    "    \n",
    "    if i is 0:\n",
    "        ax.set_title('Input Digit')\n",
    "    else:\n",
    "        ax.set_title('Layer 1 Feature {}'.format(inds[i - 1]))\n",
    "\n",
    "    ax.set_xticks([])\n",
    "    ax.set_yticks([])\n",
    "\n",
    "plt.tight_layout()"
   ]
  },
  {
   "cell_type": "markdown",
   "metadata": {},
   "source": [
    "### 6. Deconvolution from 2nd Layer"
   ]
  },
  {
   "cell_type": "code",
   "execution_count": 6,
   "metadata": {},
   "outputs": [
    {
     "data": {
      "image/png": "[encoded data removed]",
      "text/plain": [
       "<matplotlib.figure.Figure at 0x23d03b71e10>"
      ]
     },
     "metadata": {},
     "output_type": "display_data"
    }
   ],
   "source": [
    "layer = sess.run(activations[4], feed_dict={X: images[None, img_ind]})\n",
    "\n",
    "for i in range(3):\n",
    "    layer = np.sum(layer, axis=0)\n",
    "\n",
    "inds = np.sort(np.argpartition(layer, -4)[-5:])\n",
    "\n",
    "figs = [images[img_ind]]\n",
    "\n",
    "for i in range(len(inds)):\n",
    "    \n",
    "    pool2 = activations[4][:, :, :, None, inds[i]]\n",
    "    depool2 = nn_ops.max_pool_grad_v2(activations[3][:, :, :, None, inds[i]], pool2, pool2, pool_ksize, pool_strides, 'SAME')\n",
    "    derect2 = tf.nn.relu(depool2)\n",
    "    deconv2 = tf.nn.conv2d_transpose(derect2, weights[1][:, :, :, None, inds[i]], tf.shape(activations[2]), conv_strides, 'SAME')\n",
    "\n",
    "    depool1 = nn_ops.max_pool_grad_v2(activations[1], activations[2], deconv2, pool_ksize, pool_strides, 'SAME')\n",
    "    derect1 = tf.nn.relu(depool1)\n",
    "    deconv1 = tf.nn.conv2d_transpose(derect1, weights[0], tf.shape(activations[0]), conv_strides, 'SAME')\n",
    "\n",
    "    r = sess.run(deconv1, feed_dict={X: images[None, img_ind]})\n",
    "    figs.append(r)\n",
    "\n",
    "    \n",
    "fig = plt.figure(figsize=(15,15))\n",
    "for i in range(6):\n",
    "    \n",
    "    ax = fig.add_subplot(1, 6, i + 1)\n",
    "    ax.imshow(figs[i].reshape(28,28), cmap='gray')\n",
    "    \n",
    "    if i is 0:\n",
    "        ax.set_title('Input Digit')\n",
    "    else:\n",
    "        ax.set_title('Layer 2 Feature {}'.format(inds[i - 1]))\n",
    "\n",
    "    ax.set_xticks([])\n",
    "    ax.set_yticks([])\n",
    "\n",
    "plt.tight_layout()"
   ]
  },
  {
   "cell_type": "markdown",
   "metadata": {},
   "source": [
    "### 7. Deconvolution from 3rd Layer"
   ]
  },
  {
   "cell_type": "code",
   "execution_count": 7,
   "metadata": {},
   "outputs": [
    {
     "data": {
      "image/png": "[encoded data removed]",
      "text/plain": [
       "<matplotlib.figure.Figure at 0x23d701672b0>"
      ]
     },
     "metadata": {},
     "output_type": "display_data"
    }
   ],
   "source": [
    "layer = sess.run(activations[6], feed_dict={X: images[None, img_ind]})\n",
    "\n",
    "for i in range(3):\n",
    "    layer = np.sum(layer, axis=0)\n",
    "\n",
    "inds = np.sort(np.argpartition(layer, -4)[-5:])\n",
    "\n",
    "figs = [images[img_ind]]\n",
    "\n",
    "for i in range(len(inds)):\n",
    "\n",
    "    pool3 = activations[6][:, :, :, None, inds[i]]\n",
    "    depool3 = nn_ops.max_pool_grad_v2(activations[5][:, :, :, None, inds[i]], pool3, pool3, pool_ksize, pool_strides, 'SAME')\n",
    "    derect3 = tf.nn.relu(depool3)\n",
    "    deconv3 = tf.nn.conv2d_transpose(derect3, weights[2][:, :, :, None, inds[i]], tf.shape(activations[4]), conv_strides, 'SAME')\n",
    "\n",
    "    depool2 = nn_ops.max_pool_grad_v2(activations[3], activations[4], deconv3, pool_ksize, pool_strides, 'SAME')\n",
    "    derect2 = tf.nn.relu(depool2)\n",
    "    deconv2 = tf.nn.conv2d_transpose(derect2, weights[1], tf.shape(activations[2]), conv_strides, 'SAME')\n",
    "\n",
    "    depool1 = nn_ops.max_pool_grad_v2(activations[1], activations[2], deconv2, pool_ksize, pool_strides, 'SAME')\n",
    "    derect1 = tf.nn.relu(depool1)\n",
    "    deconv1 = tf.nn.conv2d_transpose(derect1, weights[0], tf.shape(activations[0]), conv_strides, 'SAME')\n",
    "\n",
    "    r = sess.run(deconv1, feed_dict={X: images[None, img_ind]})\n",
    "    figs.append(r)\n",
    "\n",
    "    \n",
    "fig = plt.figure(figsize=(15,15))\n",
    "for i in range(6):\n",
    "    \n",
    "    ax = fig.add_subplot(1, 6, i + 1)\n",
    "    ax.imshow(figs[i].reshape(28,28), cmap='gray')\n",
    "    \n",
    "    if i is 0:\n",
    "        ax.set_title('Input Digit')\n",
    "    else:\n",
    "        ax.set_title('Layer 3 Feature {}'.format(inds[i - 1]))\n",
    "\n",
    "    ax.set_xticks([])\n",
    "    ax.set_yticks([])\n",
    "\n",
    "plt.tight_layout()"
   ]
  },
  {
   "cell_type": "code",
   "execution_count": null,
   "metadata": {
    "collapsed": true
   },
   "outputs": [],
   "source": []
  }
 ],
 "metadata": {
  "kernelspec": {
   "display_name": "Python 3",
   "language": "python",
   "name": "python3"
  },
  "language_info": {
   "codemirror_mode": {
    "name": "ipython",
    "version": 3
   },
   "file_extension": ".py",
   "mimetype": "text/x-python",
   "name": "python",
   "nbconvert_exporter": "python",
   "pygments_lexer": "ipython3",
   "version": "3.6.2"
  },
  "latex_envs": {
   "LaTeX_envs_menu_present": true,
   "autoclose": false,
   "autocomplete": true,
   "bibliofile": "biblio.bib",
   "cite_by": "apalike",
   "current_citInitial": 1,
   "eqLabelWithNumbers": true,
   "eqNumInitial": 1,
   "hotkeys": {
    "equation": "Ctrl-E",
    "itemize": "Ctrl-I"
   },
   "labels_anchors": false,
   "latex_user_defs": false,
   "report_style_numbering": false,
   "user_envs_cfg": false
  }
 },
 "nbformat": 4,
 "nbformat_minor": 2
}
