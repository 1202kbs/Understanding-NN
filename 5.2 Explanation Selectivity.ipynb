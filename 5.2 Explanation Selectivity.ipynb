{
 "cells": [
  {
   "cell_type": "markdown",
   "metadata": {},
   "source": [
    "# 5.2 Explanation Selectivity"
   ]
  },
  {
   "cell_type": "markdown",
   "metadata": {},
   "source": [
    "## Introduction\n",
    "\n",
    "Another desirable property of an explanation is that it redistributes relevances to variables that have the strongest impact on the function $f(x)$. One of the proposed methods is pixel-flipping where we measure how fast $f(x)$ goes down when removing features with highest relevance scores. The algorithm is given as follows:\n",
    "\n",
    "![title](./assets/5_2_ES/fig1.png)\n",
    "\n",
    "A sharp drop of function's value, characterized by a low AUC score indicates that the correct features have been identified as relevant. AUC results can be averaged over a large number of examples in the dataset.\n",
    "\n",
    "In the Tensorflow walkthrough, we are going to iteratively remove a patch of size $4 \\times 4$ that has the highest relevance score. We will keep track of $f(x)$ as the features are progressively removed."
   ]
  },
  {
   "cell_type": "markdown",
   "metadata": {},
   "source": [
    "## Tensorflow Walkthrough"
   ]
  },
  {
   "cell_type": "markdown",
   "metadata": {},
   "source": [
    "### 1. Import Dependencies"
   ]
  },
  {
   "cell_type": "code",
   "execution_count": 1,
   "metadata": {},
   "outputs": [
    {
     "name": "stdout",
     "output_type": "stream",
     "text": [
      "Extracting MNIST_data/train-images-idx3-ubyte.gz\n",
      "Extracting MNIST_data/train-labels-idx1-ubyte.gz\n",
      "Extracting MNIST_data/t10k-images-idx3-ubyte.gz\n",
      "Extracting MNIST_data/t10k-labels-idx1-ubyte.gz\n"
     ]
    }
   ],
   "source": [
    "import os\n",
    "\n",
    "from tensorflow.examples.tutorials.mnist import input_data\n",
    "import matplotlib.pyplot as plt\n",
    "import tensorflow as tf\n",
    "import numpy as np\n",
    "\n",
    "from models.models_5_2 import MNIST_CNN, MNIST_DNN, Taylor\n",
    "from utils import find_roi\n",
    "\n",
    "%matplotlib inline\n",
    "\n",
    "mnist = input_data.read_data_sets(\"MNIST_data/\", one_hot=True)\n",
    "images = mnist.train.images\n",
    "labels = mnist.train.labels\n",
    "\n",
    "logdir = './tf_logs/5_2_ES/'\n",
    "ckptdir = logdir + 'model'\n",
    "\n",
    "if not os.path.exists(logdir):\n",
    "    os.mkdir(logdir)"
   ]
  },
  {
   "cell_type": "markdown",
   "metadata": {},
   "source": [
    "### 2. Building Graph"
   ]
  },
  {
   "cell_type": "code",
   "execution_count": 2,
   "metadata": {
    "collapsed": true
   },
   "outputs": [],
   "source": [
    "with tf.name_scope('Classifier'):\n",
    "\n",
    "    # Initialize neural network\n",
    "    DNN = MNIST_CNN('CNN')\n",
    "\n",
    "    # Setup training process\n",
    "    X = tf.placeholder(tf.float32, [None, 784], name='X')\n",
    "    Y = tf.placeholder(tf.float32, [None, 10], name='Y')\n",
    "\n",
    "    activations, logits = DNN(X)\n",
    "    \n",
    "    tf.add_to_collection('ES', X)\n",
    "    \n",
    "    for activation in activations:\n",
    "        tf.add_to_collection('ES', activation)\n",
    "\n",
    "    cost = tf.reduce_mean(tf.nn.softmax_cross_entropy_with_logits(logits=logits, labels=Y))\n",
    "\n",
    "    optimizer = tf.train.AdamOptimizer().minimize(cost, var_list=DNN.vars)\n",
    "\n",
    "    correct_prediction = tf.equal(tf.argmax(logits, 1), tf.argmax(Y, 1))\n",
    "    accuracy = tf.reduce_mean(tf.cast(correct_prediction, tf.float32))\n",
    "\n",
    "cost_summary = tf.summary.scalar('Cost', cost)\n",
    "accuray_summary = tf.summary.scalar('Accuracy', accuracy)\n",
    "summary = tf.summary.merge_all()"
   ]
  },
  {
   "cell_type": "markdown",
   "metadata": {},
   "source": [
    "### 3. Training Network\n",
    "\n",
    "This is the step where the DNN is trained to classify the 10 digits of the MNIST images. Summaries are written into the logdir and you can visualize the statistics using tensorboard by typing this command: `tensorboard --lodir=./tf_logs`"
   ]
  },
  {
   "cell_type": "code",
   "execution_count": 3,
   "metadata": {},
   "outputs": [
    {
     "name": "stdout",
     "output_type": "stream",
     "text": [
      "Epoch: 0001 cost = 0.229090795 accuracy = 0.927618185\n",
      "Epoch: 0002 cost = 0.065635326 accuracy = 0.979818192\n",
      "Epoch: 0003 cost = 0.044778095 accuracy = 0.985727283\n",
      "Epoch: 0004 cost = 0.034307861 accuracy = 0.989163645\n",
      "Epoch: 0005 cost = 0.027771568 accuracy = 0.991272735\n",
      "Epoch: 0006 cost = 0.023438408 accuracy = 0.992309098\n",
      "Epoch: 0007 cost = 0.019354284 accuracy = 0.993909096\n",
      "Epoch: 0008 cost = 0.016295010 accuracy = 0.994727278\n",
      "Epoch: 0009 cost = 0.013088895 accuracy = 0.995836368\n",
      "Epoch: 0010 cost = 0.012431883 accuracy = 0.996254549\n",
      "Epoch: 0011 cost = 0.010716667 accuracy = 0.996309094\n",
      "Epoch: 0012 cost = 0.009751384 accuracy = 0.996800003\n",
      "Epoch: 0013 cost = 0.009352618 accuracy = 0.996854548\n",
      "Epoch: 0014 cost = 0.006814919 accuracy = 0.997509093\n",
      "Epoch: 0015 cost = 0.007247204 accuracy = 0.997727275\n",
      "Accuracy: 0.9926\n"
     ]
    }
   ],
   "source": [
    "sess = tf.InteractiveSession()\n",
    "sess.run(tf.global_variables_initializer())\n",
    "\n",
    "saver = tf.train.Saver()\n",
    "file_writer = tf.summary.FileWriter(logdir, tf.get_default_graph())\n",
    "\n",
    "# Hyper parameters\n",
    "training_epochs = 15\n",
    "batch_size = 100\n",
    "\n",
    "for epoch in range(training_epochs):\n",
    "    total_batch = int(mnist.train.num_examples / batch_size)\n",
    "    avg_cost = 0\n",
    "    avg_acc = 0\n",
    "    \n",
    "    for i in range(total_batch):\n",
    "        batch_xs, batch_ys = mnist.train.next_batch(batch_size)\n",
    "        _, c, a, summary_str = sess.run([optimizer, cost, accuracy, summary], feed_dict={X: batch_xs, Y: batch_ys})\n",
    "        avg_cost += c / total_batch\n",
    "        avg_acc += a / total_batch\n",
    "        \n",
    "        file_writer.add_summary(summary_str, epoch * total_batch + i)\n",
    "\n",
    "    print('Epoch:', '%04d' % (epoch + 1), 'cost =', '{:.9f}'.format(avg_cost), 'accuracy =', '{:.9f}'.format(avg_acc))\n",
    "    \n",
    "    saver.save(sess, ckptdir)\n",
    "\n",
    "print('Accuracy:', sess.run(accuracy, feed_dict={X: mnist.test.images, Y: mnist.test.labels}))\n",
    "\n",
    "sess.close()"
   ]
  },
  {
   "cell_type": "markdown",
   "metadata": {},
   "source": [
    "### 4. Restoring Subgraph\n",
    "\n",
    "Here we first rebuild the DNN graph from metagraph, restore DNN parameters from the checkpoint and then gather the necessary nodes using the `tf.get_collection()` function."
   ]
  },
  {
   "cell_type": "code",
   "execution_count": 4,
   "metadata": {},
   "outputs": [
    {
     "name": "stdout",
     "output_type": "stream",
     "text": [
      "INFO:tensorflow:Restoring parameters from ./tf_logs/4_2_ES/model\n"
     ]
    }
   ],
   "source": [
    "tf.reset_default_graph()\n",
    "\n",
    "sess = tf.InteractiveSession()\n",
    "\n",
    "new_saver = tf.train.import_meta_graph(ckptdir + '.meta')\n",
    "new_saver.restore(sess, tf.train.latest_checkpoint(logdir))"
   ]
  },
  {
   "cell_type": "markdown",
   "metadata": {},
   "source": [
    "### 5. Attaching Subgraph for Calculating Relevance Scores"
   ]
  },
  {
   "cell_type": "code",
   "execution_count": 5,
   "metadata": {
    "collapsed": true
   },
   "outputs": [],
   "source": [
    "conv_ksize = [1, 3, 3, 1]\n",
    "pool_ksize = [1, 2, 2, 1]\n",
    "conv_strides = [1, 1, 1, 1]\n",
    "pool_strides = [1, 2, 2, 1]\n",
    "\n",
    "activations = tf.get_collection('ES')\n",
    "weights = tf.get_collection(tf.GraphKeys.TRAINABLE_VARIABLES, scope='CNN')\n",
    "\n",
    "X = activations[0]\n",
    "predictions = activations[-1]\n",
    "\n",
    "weights.reverse()\n",
    "activations.reverse()\n",
    "\n",
    "taylor = Taylor(activations, weights, conv_ksize, pool_ksize, conv_strides, pool_strides, 'Taylor')\n",
    "\n",
    "Rs = [taylor(i) for i in range(10)]\n",
    "SA_scores = [tf.square(tf.gradients(predictions[:,i], X)) for i in range(10)]\n",
    "STD_scores = [tf.gradients(predictions[:,i], X) * X for i in range(10)]"
   ]
  },
  {
   "cell_type": "markdown",
   "metadata": {},
   "source": [
    "### 6. Calculating Relevance Scores $R(x_i)$ and Displaying Images\n",
    "\n",
    "The plot indicates that the Simple Taylor Decomposition is the most selective technique of the three, contrary to the original paper. However, I only averaged over ten images, and using a larger sample size may indicate otherwise."
   ]
  },
  {
   "cell_type": "code",
   "execution_count": 6,
   "metadata": {},
   "outputs": [
    {
     "data": {
      "text/plain": [
       "<matplotlib.legend.Legend at 0x1d1a3203358>"
      ]
     },
     "execution_count": 6,
     "metadata": {},
     "output_type": "execute_result"
    },
    {
     "data": {
      "image/png": "[encoded data removed]",
      "text/plain": [
       "<matplotlib.figure.Figure at 0x1d14ea5b5f8>"
      ]
     },
     "metadata": {},
     "output_type": "display_data"
    }
   ],
   "source": [
    "sample_imgs = [images[np.argmax(labels, axis=1) == i][1] for i in range(10)]\n",
    "inds = list(range(10))\n",
    "ksize = [4, 4]\n",
    "itr = 20\n",
    "\n",
    "sa_hmaps = []\n",
    "sa_logs = []\n",
    "sa_imgs = []\n",
    "\n",
    "std_hmaps = []\n",
    "std_logs = []\n",
    "std_imgs = []\n",
    "\n",
    "dtd_hmaps = []\n",
    "dtd_logs = []\n",
    "dtd_imgs = []\n",
    "\n",
    "for ind in inds:\n",
    "    sa_img = [sample_imgs[ind]]\n",
    "    sa_coords = []\n",
    "    sa_hmap = []\n",
    "    sa_log = []\n",
    "    \n",
    "    std_img = [sample_imgs[ind]]\n",
    "    std_coords = []\n",
    "    std_hmap = []\n",
    "    std_log = []\n",
    "    \n",
    "    dtd_img = [sample_imgs[ind]]\n",
    "    dtd_coords = []\n",
    "    dtd_hmap = []\n",
    "    dtd_log = []\n",
    "\n",
    "    for i in range(itr):\n",
    "        sa_lg, sa_res = sess.run([predictions[:,ind], SA_scores[ind]], feed_dict={X: sa_img[-1][None,:]})\n",
    "        std_lg, std_res = sess.run([predictions[:,ind], STD_scores[ind]], feed_dict={X: std_img[-1][None,:]})\n",
    "        dtd_lg, dtd_res = sess.run([predictions[:,ind], Rs[ind]], feed_dict={X: dtd_img[-1][None,:]})\n",
    "        \n",
    "        sa_hmap.append(sa_res[0].reshape(784))\n",
    "        sa_log.append(sa_lg.reshape([]))\n",
    "        \n",
    "        std_hmap.append(std_res.reshape(784))\n",
    "        std_log.append(std_lg.reshape([]))\n",
    "        \n",
    "        dtd_hmap.append(dtd_res.reshape(784))\n",
    "        dtd_log.append(dtd_lg.reshape([]))\n",
    "\n",
    "        sa_coord = find_roi(np.square(sa_res[0]).reshape(28,28), ksize, sa_coords)\n",
    "        sa_coords.append(sa_coord)\n",
    "        \n",
    "        std_coord = find_roi(std_res.reshape(28,28), ksize, std_coords)\n",
    "        std_coords.append(std_coord)\n",
    "        \n",
    "        dtd_coord = find_roi(dtd_res.reshape(28,28), ksize, dtd_coords)\n",
    "        dtd_coords.append(dtd_coord)\n",
    "        \n",
    "        if i is itr - 1:\n",
    "            break\n",
    "\n",
    "        temp = np.copy(sa_img[-1])\n",
    "        temp = temp.reshape(28,28) \n",
    "        temp[sa_coord[0]:sa_coord[0]+ksize[0], sa_coord[1]:sa_coord[1]+ksize[1]].fill(0)\n",
    "        sa_img.append(temp.reshape(784))\n",
    "        \n",
    "        temp = np.copy(std_img[-1])\n",
    "        temp = temp.reshape(28,28) \n",
    "        temp[std_coord[0]:std_coord[0]+ksize[0], std_coord[1]:std_coord[1]+ksize[1]].fill(0)\n",
    "        std_img.append(temp.reshape(784))\n",
    "        \n",
    "        temp = np.copy(dtd_img[-1])\n",
    "        temp = temp.reshape(28,28) \n",
    "        temp[dtd_coord[0]:dtd_coord[0]+ksize[0], dtd_coord[1]:dtd_coord[1]+ksize[1]].fill(0)\n",
    "        dtd_img.append(temp.reshape(784))\n",
    "    \n",
    "    sa_hmaps.append(sa_hmap)\n",
    "    sa_logs.append(sa_log)\n",
    "    sa_imgs.append(sa_img)\n",
    "    \n",
    "    std_hmaps.append(std_hmap)\n",
    "    std_logs.append(std_log)\n",
    "    std_imgs.append(std_img)\n",
    "    \n",
    "    dtd_hmaps.append(dtd_hmap)\n",
    "    dtd_logs.append(dtd_log)\n",
    "    dtd_imgs.append(dtd_img)\n",
    "\n",
    "fig = plt.figure()\n",
    "ax = fig.add_subplot(111)\n",
    "\n",
    "x = list(range(itr))\n",
    "y1 = np.average(sa_logs, axis=0)\n",
    "y2 = np.average(std_logs, axis=0)\n",
    "y3 = np.average(dtd_logs, axis=0)\n",
    "\n",
    "ax.plot(x,y1, label='Sensitivity Analysis', marker='.')\n",
    "ax.plot(x,y2, label='Simple Taylor Decomposition', marker='.')\n",
    "ax.plot(x,y3, label='Deep Taylor Decomposition', marker='.')\n",
    "ax.set_title('Explanation Technique Comparison with Pixel-Flipping', fontdict={'fontsize': 12})\n",
    "ax.set_xlabel('Number of Features Removed', fontdict={'fontsize': 12})\n",
    "ax.set_ylabel('Average Classification Score', fontdict={'fontsize': 12})\n",
    "ax.set_xticks(list(range(0, 20, 5)))\n",
    "ax.set_xbound(0, 19)\n",
    "ax.set_ybound(0)\n",
    "\n",
    "ax.legend(fontsize='large')"
   ]
  },
  {
   "cell_type": "markdown",
   "metadata": {},
   "source": [
    "This is the image of the digit as the features are removed and the heat map produced by Deep Taylor Decomposition. We cam see that the heat map grows fainter and fainter, and at the end, Deep Taylor Decomposition no longer provides an explanation."
   ]
  },
  {
   "cell_type": "code",
   "execution_count": 7,
   "metadata": {},
   "outputs": [
    {
     "data": {
      "image/png": "[encoded data removed]",
      "text/plain": [
       "<matplotlib.figure.Figure at 0x1d11dc5c278>"
      ]
     },
     "metadata": {},
     "output_type": "display_data"
    },
    {
     "data": {
      "image/png": "[encoded data removed]",
      "text/plain": [
       "<matplotlib.figure.Figure at 0x1d1a3485b00>"
      ]
     },
     "metadata": {},
     "output_type": "display_data"
    }
   ],
   "source": [
    "digit = 4\n",
    "\n",
    "fig = plt.figure(figsize=[15,15])\n",
    "for i in range(5):      \n",
    "    ax = fig.add_subplot(1, 5, i + 1)\n",
    "    ax.imshow(dtd_imgs[digit][i * 2].reshape([28,28]), cmap='gray')\n",
    "    ax.tick_params(labelbottom='off', labelleft='off', bottom='off', left='off')\n",
    "plt.tight_layout()\n",
    "\n",
    "fig = plt.figure(figsize=[15,15])\n",
    "for i in range(5):      \n",
    "    ax = fig.add_subplot(1, 5, i + 1)\n",
    "    ax.imshow(dtd_hmaps[digit][i * 2].reshape([28,28]), cmap='hot_r')\n",
    "    ax.tick_params(labelbottom='off', labelleft='off', bottom='off', left='off')\n",
    "plt.tight_layout()"
   ]
  },
  {
   "cell_type": "code",
   "execution_count": null,
   "metadata": {
    "collapsed": true
   },
   "outputs": [],
   "source": []
  }
 ],
 "metadata": {
  "kernelspec": {
   "display_name": "Python 3",
   "language": "python",
   "name": "python3"
  },
  "language_info": {
   "codemirror_mode": {
    "name": "ipython",
    "version": 3
   },
   "file_extension": ".py",
   "mimetype": "text/x-python",
   "name": "python",
   "nbconvert_exporter": "python",
   "pygments_lexer": "ipython3",
   "version": "3.6.2"
  },
  "latex_envs": {
   "LaTeX_envs_menu_present": true,
   "autoclose": false,
   "autocomplete": true,
   "bibliofile": "biblio.bib",
   "cite_by": "apalike",
   "current_citInitial": 1,
   "eqLabelWithNumbers": true,
   "eqNumInitial": 1,
   "hotkeys": {
    "equation": "Ctrl-E",
    "itemize": "Ctrl-I"
   },
   "labels_anchors": false,
   "latex_user_defs": false,
   "report_style_numbering": false,
   "user_envs_cfg": false
  }
 },
 "nbformat": 4,
 "nbformat_minor": 2
}
