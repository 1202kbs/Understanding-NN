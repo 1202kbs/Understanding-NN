{
 "cells": [
  {
   "cell_type": "markdown",
   "metadata": {},
   "source": [
    "# 2.5 DeepLIFT"
   ]
  },
  {
   "cell_type": "markdown",
   "metadata": {},
   "source": [
    "## Tensorflow Walkthrough"
   ]
  },
  {
   "cell_type": "markdown",
   "metadata": {},
   "source": [
    "### 1. Import Dependencies"
   ]
  },
  {
   "cell_type": "code",
   "execution_count": 1,
   "metadata": {},
   "outputs": [
    {
     "name": "stdout",
     "output_type": "stream",
     "text": [
      "Extracting MNIST_data/train-images-idx3-ubyte.gz\n",
      "Extracting MNIST_data/train-labels-idx1-ubyte.gz\n",
      "Extracting MNIST_data/t10k-images-idx3-ubyte.gz\n",
      "Extracting MNIST_data/t10k-labels-idx1-ubyte.gz\n"
     ]
    }
   ],
   "source": [
    "import os\n",
    "import re\n",
    "\n",
    "from tensorflow.examples.tutorials.mnist import input_data\n",
    "from tensorflow.python.ops import nn_ops, gen_nn_ops\n",
    "import matplotlib.pyplot as plt\n",
    "import tensorflow as tf\n",
    "import numpy as np\n",
    "\n",
    "from models.models_2_5 import MNIST_CNN\n",
    "from utils import pixel_range\n",
    "\n",
    "%matplotlib inline\n",
    "\n",
    "mnist = input_data.read_data_sets(\"MNIST_data/\", one_hot=True)\n",
    "images = mnist.train.images\n",
    "labels = mnist.train.labels\n",
    "\n",
    "logdir = './tf_logs/2_5_DL/'\n",
    "ckptdir = logdir + 'model'\n",
    "\n",
    "if not os.path.exists(logdir):\n",
    "    os.mkdir(logdir)"
   ]
  },
  {
   "cell_type": "markdown",
   "metadata": {},
   "source": [
    "### 2. Building Graph"
   ]
  },
  {
   "cell_type": "code",
   "execution_count": 2,
   "metadata": {
    "collapsed": true
   },
   "outputs": [],
   "source": [
    "with tf.name_scope('Classifier'):\n",
    "\n",
    "    # Initialize neural network\n",
    "    DNN = MNIST_CNN('CNN')\n",
    "\n",
    "    # Setup training process\n",
    "    X = tf.placeholder(tf.float32, [None, 784], name='X')\n",
    "    Y = tf.placeholder(tf.float32, [None, 10], name='Y')\n",
    "    training = tf.placeholder(tf.bool, name='training')\n",
    "    activations = DNN(X, training)\n",
    "    \n",
    "    X_ref = tf.placeholder(tf.float32, [None, 784], name='X_ref')\n",
    "    activations_ref = DNN(X_ref, training, reuse=True)\n",
    "    \n",
    "    tf.add_to_collection('DL', training)\n",
    "    tf.add_to_collection('DL', X)\n",
    "    tf.add_to_collection('DL_ref', X_ref)\n",
    "    \n",
    "    for activation in activations:\n",
    "        tf.add_to_collection('DL', activation)\n",
    "    \n",
    "    for activation in activations_ref:\n",
    "        tf.add_to_collection('DL_ref', activation)\n",
    "\n",
    "    cost = tf.reduce_mean(tf.nn.softmax_cross_entropy_with_logits(logits=activations[-1], labels=Y))\n",
    "\n",
    "    optimizer = tf.train.AdamOptimizer().minimize(cost, var_list=DNN.vars)\n",
    "\n",
    "    correct_prediction = tf.equal(tf.argmax(activations[-1], 1), tf.argmax(Y, 1))\n",
    "    accuracy = tf.reduce_mean(tf.cast(correct_prediction, tf.float32))\n",
    "\n",
    "cost_summary = tf.summary.scalar('Cost', cost)\n",
    "accuray_summary = tf.summary.scalar('Accuracy', accuracy)\n",
    "summary = tf.summary.merge_all()"
   ]
  },
  {
   "cell_type": "markdown",
   "metadata": {},
   "source": [
    "### 3. Training Network\n",
    "\n",
    "This is the step where the DNN is trained to classify the 10 digits of the MNIST images. Summaries are written into the logdir and you can visualize the statistics using tensorboard by typing this command: `tensorboard --lodir=./tf_logs`"
   ]
  },
  {
   "cell_type": "code",
   "execution_count": 3,
   "metadata": {},
   "outputs": [
    {
     "name": "stdout",
     "output_type": "stream",
     "text": [
      "Epoch: 0001 cost = 0.297054920 accuracy = 0.908781820\n",
      "Epoch: 0002 cost = 0.111595800 accuracy = 0.967036371\n",
      "Epoch: 0003 cost = 0.081733512 accuracy = 0.975145464\n",
      "Epoch: 0004 cost = 0.067652444 accuracy = 0.979690920\n",
      "Epoch: 0005 cost = 0.059420204 accuracy = 0.982072738\n",
      "Epoch: 0006 cost = 0.052106735 accuracy = 0.983563647\n",
      "Epoch: 0007 cost = 0.045873785 accuracy = 0.986454556\n",
      "Epoch: 0008 cost = 0.041894900 accuracy = 0.987490919\n",
      "Epoch: 0009 cost = 0.038917441 accuracy = 0.987454555\n",
      "Epoch: 0010 cost = 0.034085965 accuracy = 0.989127282\n",
      "Epoch: 0011 cost = 0.033599649 accuracy = 0.989200009\n",
      "Epoch: 0012 cost = 0.028438996 accuracy = 0.990472735\n",
      "Epoch: 0013 cost = 0.028430790 accuracy = 0.990963644\n",
      "Epoch: 0014 cost = 0.029002894 accuracy = 0.990527281\n",
      "Epoch: 0015 cost = 0.024741071 accuracy = 0.991709099\n",
      "Accuracy: 0.9911\n"
     ]
    }
   ],
   "source": [
    "sess = tf.InteractiveSession()\n",
    "sess.run(tf.global_variables_initializer())\n",
    "\n",
    "saver = tf.train.Saver()\n",
    "file_writer = tf.summary.FileWriter(logdir, tf.get_default_graph())\n",
    "\n",
    "# Hyper parameters\n",
    "training_epochs = 15\n",
    "batch_size = 100\n",
    "\n",
    "for epoch in range(training_epochs):\n",
    "    total_batch = int(mnist.train.num_examples / batch_size)\n",
    "    avg_cost = 0\n",
    "    avg_acc = 0\n",
    "    \n",
    "    for i in range(total_batch):\n",
    "        batch_xs, batch_ys = mnist.train.next_batch(batch_size)\n",
    "        _, c, a, summary_str = sess.run([optimizer, cost, accuracy, summary], feed_dict={X: batch_xs, Y: batch_ys, training: True})\n",
    "        avg_cost += c / total_batch\n",
    "        avg_acc += a / total_batch\n",
    "        \n",
    "        file_writer.add_summary(summary_str, epoch * total_batch + i)\n",
    "\n",
    "    print('Epoch:', '%04d' % (epoch + 1), 'cost =', '{:.9f}'.format(avg_cost), 'accuracy =', '{:.9f}'.format(avg_acc))\n",
    "    \n",
    "    saver.save(sess, ckptdir)\n",
    "\n",
    "print('Accuracy:', sess.run(accuracy, feed_dict={X: mnist.test.images, Y: mnist.test.labels, training: False}))\n",
    "\n",
    "sess.close()"
   ]
  },
  {
   "cell_type": "markdown",
   "metadata": {},
   "source": [
    "### 4. Restoring Subgraph\n",
    "\n",
    "Here we first rebuild the DNN graph from metagraph, restore DNN parameters from the checkpoint and then gather the necessary weight and biases for Deep Taylor Decomposition using the `tf.get_collection()` function."
   ]
  },
  {
   "cell_type": "code",
   "execution_count": 4,
   "metadata": {},
   "outputs": [
    {
     "name": "stdout",
     "output_type": "stream",
     "text": [
      "INFO:tensorflow:Restoring parameters from ./tf_logs/2_5_DL/model\n"
     ]
    }
   ],
   "source": [
    "tf.reset_default_graph()\n",
    "\n",
    "sess = tf.InteractiveSession()\n",
    "\n",
    "new_saver = tf.train.import_meta_graph(ckptdir + '.meta')\n",
    "new_saver.restore(sess, tf.train.latest_checkpoint(logdir))\n",
    "\n",
    "weights = tf.get_collection(tf.GraphKeys.TRAINABLE_VARIABLES, scope='.*kernel.*')\n",
    "activations = tf.get_collection('DL')\n",
    "activations_ref = tf.get_collection('DL_ref')\n",
    "\n",
    "training = activations.pop(0)\n",
    "X = activations.pop(0)\n",
    "X_ref = activations_ref.pop(0)"
   ]
  },
  {
   "cell_type": "markdown",
   "metadata": {},
   "source": [
    "### 5. Relevance Score Propagation"
   ]
  },
  {
   "cell_type": "markdown",
   "metadata": {},
   "source": [
    "### Calculating $\\Delta$"
   ]
  },
  {
   "cell_type": "code",
   "execution_count": 5,
   "metadata": {
    "collapsed": true
   },
   "outputs": [],
   "source": [
    "delta = [activations[i] - activations_ref[i] for i in range(len(activations))]"
   ]
  },
  {
   "cell_type": "markdown",
   "metadata": {},
   "source": [
    "### Propagation from Output to 3rd Layer Activations: Linear Rule"
   ]
  },
  {
   "cell_type": "code",
   "execution_count": 6,
   "metadata": {
    "collapsed": true
   },
   "outputs": [],
   "source": [
    "M = []\n",
    "C = []\n",
    "\n",
    "ind = tf.placeholder(tf.int32, [], 'index')\n",
    "\n",
    "D_4 = delta[7][:,ind,None]\n",
    "M_4_4 = tf.ones_like(D_4, dtype=tf.float32)\n",
    "C_4_4 = D_4 * M_4_4\n",
    "\n",
    "M.append(M_4_4)\n",
    "C.append(C_4_4)\n",
    "\n",
    "W_T = tf.transpose(weights[3][:,ind,None])\n",
    "W_T_p = tf.maximum(W_T, 0.)\n",
    "W_T_n = tf.minimum(W_T, 0.)\n",
    "\n",
    "D_3a = delta[6]\n",
    "D_3a_p = tf.where(0. < D_3a, tf.ones_like(D_3a, dtype=tf.float32), tf.zeros_like(D_3a, dtype=tf.float32))\n",
    "D_3a_n = tf.where(0. > D_3a, tf.ones_like(D_3a, dtype=tf.float32), tf.zeros_like(D_3a, dtype=tf.float32))\n",
    "D_3a_z = tf.where(tf.equal(0., D_3a), tf.ones_like(D_3a, dtype=tf.float32), tf.zeros_like(D_3a, dtype=tf.float32))\n",
    "\n",
    "M_3a_4 = tf.matmul(M_4_4, W_T_p) * D_3a_p + tf.matmul(M_4_4, W_T_n) * D_3a_n + \\\n",
    "         tf.matmul(M_4_4, W_T_p) * D_3a_n + tf.matmul(M_4_4, W_T_n) * D_3a_p + \\\n",
    "         tf.matmul(0.5 * (M_4_4 + M_4_4), W_T) * D_3a_z\n",
    "\n",
    "C_3a_4 = D_3a * M_3a_4\n",
    "\n",
    "M.append(M_3a_4)\n",
    "C.append(C_3a_4)"
   ]
  },
  {
   "cell_type": "markdown",
   "metadata": {},
   "source": [
    "### Propagation from 3rd Layer Activations to 3rd Layer Pre-Activations: Rescale Rule"
   ]
  },
  {
   "cell_type": "code",
   "execution_count": 7,
   "metadata": {
    "collapsed": true
   },
   "outputs": [],
   "source": [
    "D_3a = delta[6]\n",
    "D_3p = delta[5]\n",
    "\n",
    "M_3p_3a = tf.where(tf.equal(0., D_3p), tf.gradients(activations[6], activations[5])[0], D_3a / D_3p)\n",
    "M_3p_4 = M_3p_3a * M_3a_4\n",
    "\n",
    "C_3p_4 = D_3p * M_3p_4\n",
    "\n",
    "M.append(M_3p_4)\n",
    "C.append(C_3p_4)"
   ]
  },
  {
   "cell_type": "markdown",
   "metadata": {},
   "source": [
    "### Propagation from 3rd Layer Pre-Activations to 2nd Layer Activations: Linear Rule"
   ]
  },
  {
   "cell_type": "code",
   "execution_count": 8,
   "metadata": {
    "collapsed": true
   },
   "outputs": [],
   "source": [
    "W_T = tf.transpose(weights[2])\n",
    "W_T_p = tf.maximum(W_T, 0.)\n",
    "W_T_n = tf.minimum(W_T, 0.)\n",
    "\n",
    "D_2a = tf.reshape(delta[4], [-1, 7 * 7 * 64])\n",
    "D_2a_p = tf.where(0. < D_2a, tf.ones_like(D_2a, dtype=tf.float32), tf.zeros_like(D_2a, dtype=tf.float32))\n",
    "D_2a_n = tf.where(0. > D_2a, tf.ones_like(D_2a, dtype=tf.float32), tf.zeros_like(D_2a, dtype=tf.float32))\n",
    "D_2a_z = tf.where(tf.equal(0., D_2a), tf.ones_like(D_2a, dtype=tf.float32), tf.zeros_like(D_2a, dtype=tf.float32))\n",
    "\n",
    "M_2a_4 = tf.matmul(M_3p_4, W_T_p) * D_2a_p + tf.matmul(M_3p_4, W_T_n) * D_2a_n + \\\n",
    "         tf.matmul(M_3p_4, W_T_p) * D_2a_n + tf.matmul(M_3p_4, W_T_n) * D_2a_p + \\\n",
    "         tf.matmul(M_3p_4, W_T) * D_2a_z\n",
    "\n",
    "C_2a_4 = D_2a * M_2a_4\n",
    "\n",
    "M.append(M_2a_4)\n",
    "C.append(C_2a_4)"
   ]
  },
  {
   "cell_type": "markdown",
   "metadata": {},
   "source": [
    "### Propagation from 2nd Layer Activations to 2nd Layer Pre-Activations: Rescale Rule"
   ]
  },
  {
   "cell_type": "code",
   "execution_count": 9,
   "metadata": {
    "collapsed": true
   },
   "outputs": [],
   "source": [
    "D_2a = delta[4]\n",
    "D_2p = delta[3]\n",
    "\n",
    "M_2p_2a = tf.where(tf.equal(0., D_2p), tf.gradients(activations[4], activations[3])[0], D_2a / D_2p)\n",
    "M_2p_4 = M_2p_2a * tf.reshape(M_2a_4, [-1, 7, 7, 64])\n",
    "\n",
    "C_2p_4 = D_2p * M_2p_4\n",
    "\n",
    "M.append(M_2p_4)\n",
    "C.append(C_2p_4)"
   ]
  },
  {
   "cell_type": "markdown",
   "metadata": {},
   "source": [
    "### Propagation from 2nd Layer Pre-Activations to 1st Layer Activations: Linear Rule"
   ]
  },
  {
   "cell_type": "code",
   "execution_count": 10,
   "metadata": {
    "collapsed": true
   },
   "outputs": [],
   "source": [
    "W = weights[1]\n",
    "W_p = tf.maximum(W, 0.)\n",
    "W_n = tf.minimum(W, 0.)\n",
    "\n",
    "D_1a = delta[2]\n",
    "D_1a_p = tf.where(0. < D_1a, tf.ones_like(D_1a, dtype=tf.float32), tf.zeros_like(D_1a, dtype=tf.float32))\n",
    "D_1a_n = tf.where(0. > D_1a, tf.ones_like(D_1a, dtype=tf.float32), tf.zeros_like(D_1a, dtype=tf.float32))\n",
    "D_1a_z = tf.where(tf.equal(0., D_1a), tf.ones_like(D_1a, dtype=tf.float32), tf.zeros_like(D_1a, dtype=tf.float32))\n",
    "\n",
    "M_1a_4 = tf.nn.conv2d_transpose(M_2p_4, W_p, tf.shape(D_1a), [1,2,2,1]) * D_1a_p + \\\n",
    "         tf.nn.conv2d_transpose(M_2p_4, W_n, tf.shape(D_1a), [1,2,2,1]) * D_1a_n + \\\n",
    "         tf.nn.conv2d_transpose(M_2p_4, W_p, tf.shape(D_1a), [1,2,2,1]) * D_1a_n + \\\n",
    "         tf.nn.conv2d_transpose(M_2p_4, W_n, tf.shape(D_1a), [1,2,2,1]) * D_1a_p + \\\n",
    "         tf.nn.conv2d_transpose(M_2p_4, W, tf.shape(D_1a), [1,2,2,1]) * D_1a_z\n",
    "\n",
    "C_1a_4 = D_1a * M_1a_4\n",
    "\n",
    "M.append(M_1a_4)\n",
    "C.append(C_1a_4)"
   ]
  },
  {
   "cell_type": "markdown",
   "metadata": {},
   "source": [
    "### Propagation from 1st Layer Activations to 1st Layer Pre-Activations: Rescale Rule"
   ]
  },
  {
   "cell_type": "code",
   "execution_count": 11,
   "metadata": {
    "collapsed": true
   },
   "outputs": [],
   "source": [
    "D_1a = delta[2]\n",
    "D_1p = delta[1]\n",
    "\n",
    "M_1p_1a = tf.where(tf.equal(0., D_1p), tf.gradients(activations[2], activations[1])[0], D_1a / D_1p)\n",
    "M_1p_4 = M_1p_1a * M_1a_4\n",
    "\n",
    "C_1p_4 = D_1p * M_1p_4\n",
    "\n",
    "M.append(M_1p_4)\n",
    "C.append(C_1p_4)"
   ]
  },
  {
   "cell_type": "markdown",
   "metadata": {},
   "source": [
    "### Propagation from 1st Layer Pre-Activations to Image: Linear Rule"
   ]
  },
  {
   "cell_type": "code",
   "execution_count": 12,
   "metadata": {
    "collapsed": true
   },
   "outputs": [],
   "source": [
    "W = weights[0]\n",
    "W_p = tf.maximum(W, 0.)\n",
    "W_n = tf.minimum(W, 0.)\n",
    "\n",
    "D_0 = delta[0]\n",
    "D_0_p = tf.where(0. < D_0, tf.ones_like(D_0, dtype=tf.float32), tf.zeros_like(D_0, dtype=tf.float32))\n",
    "D_0_n = tf.where(0. > D_0, tf.ones_like(D_0, dtype=tf.float32), tf.zeros_like(D_0, dtype=tf.float32))\n",
    "D_0_z = tf.where(tf.equal(0., D_0), tf.ones_like(D_0, dtype=tf.float32), tf.zeros_like(D_0, dtype=tf.float32))\n",
    "\n",
    "M_0_4 = tf.nn.conv2d_transpose(M_1p_4, W_p, tf.shape(D_0), [1,2,2,1]) * D_0_p + \\\n",
    "         tf.nn.conv2d_transpose(M_1p_4, W_n, tf.shape(D_0), [1,2,2,1]) * D_0_n + \\\n",
    "         tf.nn.conv2d_transpose(M_1p_4, W_p, tf.shape(D_0), [1,2,2,1]) * D_0_n + \\\n",
    "         tf.nn.conv2d_transpose(M_1p_4, W_n, tf.shape(D_0), [1,2,2,1]) * D_0_p + \\\n",
    "         tf.nn.conv2d_transpose(M_1p_4, W, tf.shape(D_0), [1,2,2,1]) * D_0_z\n",
    "\n",
    "C_0_4 = D_0 * M_0_4\n",
    "\n",
    "M.append(M_0_4)\n",
    "C.append(C_0_4)"
   ]
  },
  {
   "cell_type": "markdown",
   "metadata": {},
   "source": [
    "### 6. Calculating Relevance Scores $R(x_i)$"
   ]
  },
  {
   "cell_type": "code",
   "execution_count": 13,
   "metadata": {},
   "outputs": [
    {
     "data": {
      "image/png": "[encoded data removed]",
      "text/plain": [
       "<matplotlib.figure.Figure at 0x2364d06f3c8>"
      ]
     },
     "metadata": {},
     "output_type": "display_data"
    }
   ],
   "source": [
    "sample_imgs = [images[np.argmax(labels, axis=1) == i][5] for i in range(10)]\n",
    "ref_img = np.zeros([1, 784])\n",
    "\n",
    "res = []\n",
    "for i in range(10):\n",
    "    res.append(sess.run(C[-1], feed_dict={X: sample_imgs[i].reshape(1,784), X_ref: ref_img, training: False, ind: i}))\n",
    "\n",
    "\n",
    "plt.figure(figsize=(15,15))\n",
    "for i in range(5):\n",
    "    plt.subplot(5, 2, 2 * i + 1)\n",
    "    vmin, vmax = pixel_range(res[2 * i])\n",
    "    plt.imshow(np.reshape(res[2 * i], [28, 28]), vmin=vmin, vmax=vmax, cmap='bwr')\n",
    "    plt.title('Digit: {}'.format(2 * i))\n",
    "    plt.xticks([])\n",
    "    plt.yticks([])\n",
    "    plt.colorbar()\n",
    "    \n",
    "    plt.subplot(5, 2, 2 * i + 2)\n",
    "    vmin, vmax = pixel_range(res[2 * i + 1])\n",
    "    plt.imshow(np.reshape(res[2 * i + 1], [28, 28]), vmin=vmin, vmax=vmax, cmap='bwr')\n",
    "    plt.title('Digit: {}'.format(2 * i + 1))\n",
    "    plt.xticks([])\n",
    "    plt.yticks([])\n",
    "    plt.colorbar()\n",
    "\n",
    "plt.tight_layout()"
   ]
  },
  {
   "cell_type": "code",
   "execution_count": null,
   "metadata": {
    "collapsed": true
   },
   "outputs": [],
   "source": []
  }
 ],
 "metadata": {
  "kernelspec": {
   "display_name": "Python 3",
   "language": "python",
   "name": "python3"
  },
  "language_info": {
   "codemirror_mode": {
    "name": "ipython",
    "version": 3
   },
   "file_extension": ".py",
   "mimetype": "text/x-python",
   "name": "python",
   "nbconvert_exporter": "python",
   "pygments_lexer": "ipython3",
   "version": "3.6.2"
  },
  "latex_envs": {
   "LaTeX_envs_menu_present": true,
   "autoclose": false,
   "autocomplete": true,
   "bibliofile": "biblio.bib",
   "cite_by": "apalike",
   "current_citInitial": 1,
   "eqLabelWithNumbers": true,
   "eqNumInitial": 1,
   "hotkeys": {
    "equation": "Ctrl-E",
    "itemize": "Ctrl-I"
   },
   "labels_anchors": false,
   "latex_user_defs": false,
   "report_style_numbering": false,
   "user_envs_cfg": false
  }
 },
 "nbformat": 4,
 "nbformat_minor": 2
}
